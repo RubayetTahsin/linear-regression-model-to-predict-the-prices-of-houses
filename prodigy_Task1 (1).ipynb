{
  "nbformat": 4,
  "nbformat_minor": 0,
  "metadata": {
    "colab": {
      "provenance": []
    },
    "kernelspec": {
      "name": "python3",
      "display_name": "Python 3"
    },
    "language_info": {
      "name": "python"
    }
  },
  "cells": [
    {
      "cell_type": "code",
      "execution_count": 1,
      "metadata": {
        "id": "_CjyTPt9hruZ"
      },
      "outputs": [],
      "source": [
        "import pandas as pd\n",
        "from sklearn.linear_model import LinearRegression\n",
        "from sklearn.metrics import mean_squared_error"
      ]
    },
    {
      "cell_type": "code",
      "source": [
        "file_path_train = 'train.csv'  # Replace 'train.csv' with the file name of your training data\n",
        "file_path_test = 'test.csv'    # Replace 'test.csv' with the file name of your testing data\n",
        "train_data = pd.read_csv('//content/train.csv')\n",
        "test_data = pd.read_csv('//content/test.csv')"
      ],
      "metadata": {
        "id": "7ksDp75nuM6L"
      },
      "execution_count": 3,
      "outputs": []
    },
    {
      "cell_type": "code",
      "source": [
        "X_train = train_data[['GrLivArea', 'BedroomAbvGr', 'FullBath', 'HalfBath']] # Features\n",
        "y_train = train_data['SalePrice']  # Target variable\n",
        "model = LinearRegression()\n",
        "model.fit(X_train, y_train)\n",
        "test_file_path = 'test.csv'  # Replace 'test.csv' with the file name of your test dataset\n",
        "test_data = pd.read_csv('//content/test.csv')\n",
        "X_test = test_data[['GrLivArea', 'BedroomAbvGr', 'FullBath', 'HalfBath']]  # Features\n",
        "y_pred = model.predict(X_test)\n",
        "predictions = pd.DataFrame({'PredictedSalePrice': y_pred})\n",
        "print(predictions)"
      ],
      "metadata": {
        "id": "-ClQxQJUXTaX",
        "colab": {
          "base_uri": "https://localhost:8080/"
        },
        "outputId": "d63965fd-5aa5-446d-e75e-13e74007ac55"
      },
      "execution_count": 4,
      "outputs": [
        {
          "output_type": "stream",
          "name": "stdout",
          "text": [
            "      PredictedSalePrice\n",
            "0          119523.739163\n",
            "1          142059.630497\n",
            "2          204907.547697\n",
            "3          202201.953228\n",
            "4          191462.453776\n",
            "...                  ...\n",
            "1454       116410.594937\n",
            "1455       116410.594937\n",
            "1456        99197.888710\n",
            "1457        99620.673851\n",
            "1458       245058.569607\n",
            "\n",
            "[1459 rows x 1 columns]\n"
          ]
        }
      ]
    }
  ]
}